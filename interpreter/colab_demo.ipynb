{
 "cells": [
  {
   "cell_type": "code",
   "execution_count": null,
   "id": "ab895913",
   "metadata": {},
   "outputs": [],
   "source": [
    "# enzo-lang in Google Colab\n",
    "\n",
    "![Enzo Language](https://camo.githubusercontent.com/9e797147daf16041dfcd9edb30da8e0045df89386726b3c603b360bcd5e6fa4c/68747470733a2f2f6861636b6d642e696f2f5f75706c6f6164732f424a54467141575665782e706e67)\n",
    "\n",
    "This notebook demonstrates the Enzo toy programming language in Google Colab.\n",
    "\n",
    "## 🛠️ Setup for Google Colab\n",
    "\n",
    "First, we need to install the Enzo interpreter. Run the cell below:"
   ]
  }
 ],
 "metadata": {
  "language_info": {
   "name": "python"
  }
 },
 "nbformat": 4,
 "nbformat_minor": 5
}
