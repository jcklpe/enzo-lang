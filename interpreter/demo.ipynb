{
 "cells": [
  {
   "cell_type": "markdown",
   "id": "11218522",
   "metadata": {},
   "source": [
    "# 🧪 Enzo Playground\n",
    "This python notebook lets you run Enzo code directly in your browser.\n",
    "\n",
    "- No setup required\n",
    "- Interpreter loads automatically\n",
    "- Try out sample expressions or write your own!"
   ]
  },
  {
   "cell_type": "markdown",
   "id": "cf257c23",
   "metadata": {},
   "source": [
    "## 🛠️ Setup: Install dependencies and load Enzo interpreter\n",
    "You have to run the below code first before anything will work. Just click the little play button in the top left of the code cell. "
   ]
  },
  {
   "cell_type": "code",
   "execution_count": null,
   "id": "31ab30b6",
   "metadata": {
    "collapsed": true,
    "tags": [
     "hide_input"
    ]
   },
   "outputs": [],
   "source": [
    "import sys\n",
    "import os\n",
    "\n",
    "try:\n",
    "    import google.colab\n",
    "    IN_COLAB = True\n",
    "except ImportError:\n",
    "    IN_COLAB = False\n",
    "\n",
    "# Clone and set up ONLY if running on Colab\n",
    "if IN_COLAB:\n",
    "    !pip install lark --quiet\n",
    "\n",
    "    # Remove existing clone if it exists\n",
    "    if os.path.exists(\"enzo-code\"):\n",
    "        shutil.rmtree(\"enzo-code\")\n",
    "\n",
    "    !git clone --depth 1 https://github.com/jcklpe/enzo-lang.git enzo-code\n",
    "    sys.path.insert(0, \"./enzo-code/src\")\n",
    "else:\n",
    "    sys.path.insert(0, \"./src\")\n",
    "\n",
    "from enzo.parser import parse\n",
    "from enzo.evaluator import eval_ast\n",
    "\n",
    "# Register %%enzo magic command\n",
    "from IPython.core.magic import register_line_cell_magic\n",
    "\n",
    "@register_line_cell_magic\n",
    "def enzo(line, cell=None):\n",
    "    src = line if cell is None else cell\n",
    "    try:\n",
    "        result = eval_ast(parse(src))\n",
    "        print(result)\n",
    "    except Exception as e:\n",
    "        print(f\"❌ Error: {e}\")\n"
   ]
  },
  {
   "cell_type": "markdown",
   "id": "970cef3e",
   "metadata": {},
   "source": [
    "## Example code\n",
    "### Variable types and declaration"
   ]
  },
  {
   "cell_type": "code",
   "execution_count": 4,
   "id": "e11bb363",
   "metadata": {},
   "outputs": [
    {
     "name": "stdout",
     "output_type": "stream",
     "text": [
      "❌ Error: No terminal matches '\n",
      "' in the current parser context, at line 1 col 7\n",
      "\n",
      "$x: 10\n",
      "      ^\n",
      "Expected one of: \n",
      "\t* LPAR\n",
      "\t* PLUS\n",
      "\t* STAR\n",
      "\t* LBRACE\n",
      "\t* RSQB\n",
      "\t* STRING\n",
      "\t* NUMBER\n",
      "\t* DOTINT\n",
      "\t* SLASH\n",
      "\t* DOTVAR\n",
      "\t* \":>\"\n",
      "\t* RBRACE\n",
      "\t* MINUS\n",
      "\t* DOTPROP\n",
      "\t* LSQB\n",
      "\t* NAME\n",
      "\t* \"<:\"\n",
      "\t* RPAR\n",
      "\t* COMMA\n",
      "\n",
      "Previous tokens: Token('NUMBER', '10')\n",
      "\n"
     ]
    }
   ],
   "source": [
    "%%enzo\n",
    "$x: 10\n",
    "$x + 5"
   ]
  },
  {
   "cell_type": "code",
   "execution_count": null,
   "id": "892d1c0d",
   "metadata": {},
   "outputs": [
    {
     "data": {
      "text/plain": [
       "7"
      ]
     },
     "execution_count": 2,
     "metadata": {},
     "output_type": "execute_result"
    }
   ],
   "source": [
    "run_enzo('$x: 4')\n",
    "run_enzo('$x + 3')\n",
    "run_enzo('$colors: [\"red\", \"green\", \"blue\"]')\n",
    "run_enzo('$colors.3')\n",
    "\n",
    "run_enzo('$colors: [\"red\", \"green\", \"blue\"]')\n",
    "run_enzo('$colors.3')\n",
    "run_enzo('\"Hello, <$colors.2>!\"')\n"
   ]
  }
 ],
 "metadata": {
  "kernelspec": {
   "display_name": "Python (Enzo)",
   "language": "python",
   "name": "enzo"
  },
  "language_info": {
   "codemirror_mode": {
    "name": "ipython",
    "version": 3
   },
   "file_extension": ".py",
   "mimetype": "text/x-python",
   "name": "python",
   "nbconvert_exporter": "python",
   "pygments_lexer": "ipython3",
   "version": "3.13.2"
  }
 },
 "nbformat": 4,
 "nbformat_minor": 5
}
