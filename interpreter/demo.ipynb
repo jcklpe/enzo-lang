{
 "cells": [
  {
   "cell_type": "markdown",
   "id": "a3b1c8d7",
   "metadata": {},
   "source": [
    "# 🧪 The Enzo Playground\n",
    "\n",
    "Welcome! This interactive notebook lets you run Enzo code directly in your browser. \n",
    "\n",
    "Enzo is a programming language designed with a focus on readability and intuitive syntax. This playground is organized to walk you through its features, from the basic building blocks to more advanced concepts. Each section includes explanations followed by live code cells you can run and modify."
   ]
  },
  {
   "cell_type": "markdown",
   "id": "e9f0a2b1",
   "metadata": {},
   "source": [
    "## 🛠️ 1. Setup\n",
    "\n",
    "First, you must run the setup cell below. It installs the necessary components and loads the Enzo interpreter. Just click the \"play\" button (▶️) in the top-left corner of the cell. You'll know it's finished when you see the message \"✅ Setup complete\"."
   ]
  },
  {
   "cell_type": "code",
   "execution_count": 4,
   "id": "f4c5d6e8",
   "metadata": {},
   "outputs": [
    {
     "name": "stdout",
     "output_type": "stream",
     "text": [
      "✅ Setup complete\n"
     ]
    }
   ],
   "source": [
    "import sys\n",
    "import os\n",
    "import shutil\n",
    "\n",
    "#  Check if we are in Google Colab\n",
    "try:\n",
    "    import google.colab\n",
    "    IN_COLAB = True\n",
    "except ImportError:\n",
    "    IN_COLAB = False\n",
    "\n",
    "# Clone the repository and install dependencies only if in Colab\n",
    "if IN_COLAB:\n",
    "    !pip install lark --quiet\n",
    "    if os.path.exists(\"enzo-lang\"):\n",
    "        shutil.rmtree(\"enzo-lang\")\n",
    "    !git clone --depth 1 https://github.com/jcklpe/enzo-lang.git\n",
    "    sys.path.insert(0, \"./enzo-lang/interpreter/src\")\n",
    "else:\n",
    "    # If running locally, assume the interpreter is in the correct path\n",
    "    sys.path.insert(0, \"./src\")\n",
    "\n",
    "from src.enzo_parser.parser import parse\n",
    "from src.evaluator import eval_ast\n",
    "\n",
    "# Register the %%enzo magic command to execute Enzo code in cells\n",
    "from IPython.core.magic import register_line_cell_magic\n",
    "\n",
    "@register_line_cell_magic\n",
    "def enzo(line, cell=None):\n",
    "    src = line if cell is None else cell\n",
    "    try:\n",
    "        result = eval_ast(parse(src))\n",
    "        if result is not None:\n",
    "            print(result)\n",
    "    except Exception as e:\n",
    "        print(f\"❌ Error: {e}\")\n",
    "\n",
    "print(\"✅ Setup complete\")"
   ]
  },
  {
   "cell_type": "markdown",
   "id": "b2c1d9e4",
   "metadata": {},
   "source": [
    "## 📖 2. The Basics: Atoms and Variables\n",
    "\n",
    "**Atoms** are the most basic data types in Enzo. A **variable** is created by binding an atom to a keyname using the `:` operator. Keynames always start with a `$` sigil."
   ]
  },
  {
   "cell_type": "markdown",
   "id": "c5d8e1f0",
   "metadata": {},
   "source": [
    "### Number and Text Atoms"
   ]
  },
  {
   "cell_type": "code",
   "execution_count": 5,
   "id": "a1b3c5d7",
   "metadata": {},
   "outputs": [
    {
     "name": "stdout",
     "output_type": "stream",
     "text": [
      "The hero is Bob and his score is 150;\n"
     ]
    }
   ],
   "source": [
    "%%enzo\n",
    "// A Number atom is any real number.\n",
    "$score: 100;\n",
    "\n",
    "// A Text atom (or string) is enclosed in double quotes.\n",
    "$name: \"Bob\";\n",
    "\n",
    "// You can embed variables and expressions directly into Text atoms.\n",
    "// This is called interpolation.\n",
    "$announcement: \"The hero is <$name> and his score is <($score + 50)>;\";\n",
    "\n",
    "$announcement; // Invoking the variable prints its value."
   ]
  },
  {
   "cell_type": "markdown",
   "id": "f8a7b6c9",
   "metadata": {},
   "source": [
    "### List Atoms\n",
    "\n",
    "A List is an ordered sequence of values. Lists can hold any type of atom and can have named (similar to a map/dict/object) or unnamed items (similar to an array). You can access items using dot notation, for both named items and positional items. Named items have an index too. "
   ]
  },
  {
   "cell_type": "code",
   "execution_count": null,
   "id": "d2e4f6a8",
   "metadata": {},
   "outputs": [
    {
     "name": "stdout",
     "output_type": "stream",
     "text": [
      "❌ Error: error: unmatched bracket\n"
     ]
    }
   ],
   "source": [
    "%%enzo\n",
    "// A simple list with positional items.\n",
    "$colors: [\"red\", \"green\",]"
   ]
  }
 ],
 "metadata": {
  "kernelspec": {
   "display_name": "Enzo Lang Poetry",
   "language": "python",
   "name": "enzo-lang"
  },
  "language_info": {
   "codemirror_mode": {
    "name": "ipython",
    "version": 3
   },
   "file_extension": ".py",
   "mimetype": "text/x-python",
   "name": "python",
   "nbconvert_exporter": "python",
   "pygments_lexer": "ipython3",
   "version": "3.13.2"
  }
 },
 "nbformat": 4,
 "nbformat_minor": 5
}
