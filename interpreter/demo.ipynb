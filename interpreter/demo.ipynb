{
 "cells": [
  {
   "cell_type": "markdown",
   "id": "a3b1c8d7",
   "metadata": {},
   "source": [
    "# enzo-lang\n",
    "\n",
    "![alt text](https://camo.githubusercontent.com/9e797147daf16041dfcd9edb30da8e0045df89386726b3c603b360bcd5e6fa4c/68747470733a2f2f6861636b6d642e696f2f5f75706c6f6164732f424a54467141575665782e706e67)\n",
    "\n",
    "Code is the ultimate user interface. It is the final user interface on which all other user interfaces are built. So I think it’s interesting to explore this space as a UX designer.\n",
    "\n",
    "Back around 2018-2020 I was taking online courses on programming. I'd get frustrated, confused, or find a particular way of doing things ugly. I needed a creative outlet, so I would vent that frustration by writing this syntax sketch of my own fantasy language. Writing it helped me better focus on and understand the things I was learning in my course. I had no intention of implementing this language syntax. But now I have implemented it! (a toy interpreter in the Python runtime using a custom AST, parser, evaluator, REPL CLI, and file runner with a vscode syntax highlighting plugin.)\n",
    "\n",
    "I'd love feedback but keep in mind this is basically a kid drawing racecars and wishing to be Batman. I don't pretend that this language is anything more than a sort of weird art project. I'm doing this for my own enjoyment and to help me better understand programming. This language will never be used in the real world, and I don't think I'll be making much it myself anytime soon. I don't make any claim that it better designed, or superior to any existing language, aesthetic or otherwise. \n",
    "\n",
    "Instead it is just an expression of perspective. I like this syntax. It makes sense to me. Designing it, and then engaging with it's implementation taught me a lot about programming, ironic in a project where the vast majority of code was implemented via LLM agents. \n",
    "\n",
    "Also want to give a shout out to the [\"Quorum Language Project\"](https://quorumlanguage.com/) for opening my eyes to the intersection between UX practice and syntax design. One reason why I make the art project distinction is that Quorum seeks to apply the empirical method to finding out how different syntax features measurably effect performance on programming benchmarks. Enzo does not. Much like a painting sometimes I feel differently one day to another. I would be curious to see how empirical results might actually turn out on it though, both personal experience, and UX studies. \n",
    "\n",
    "**The great irony of all this**\n",
    "\n",
    "It's worth pointing out the irony of implementing a programming syntax using an LLM, in that now the primary consumer and user of the syntax may be more LLM than human. LLMs perform best on Python because there is so much training data for it. What of Enzo is there to train on? The thing that enabled me to build this interpreter is also the thing that makes it obsolete. It is a toy. Toys are fun. "
   ]
  },
  {
   "cell_type": "markdown",
   "id": "e9f0a2b1",
   "metadata": {},
   "source": [
    "## 🛠️ Setup\n",
    "\n",
    "First, you must run the setup cell below. It installs the necessary components and loads the Enzo interpreter. Just click the \"play\" button (▶️) in the top-left corner of the cell. You'll know it's finished when you see the message \"✅ Setup complete\"."
   ]
  },
  {
   "cell_type": "code",
   "execution_count": 16,
   "id": "f4c5d6e8",
   "metadata": {},
   "outputs": [
    {
     "name": "stdout",
     "output_type": "stream",
     "text": [
      "The autoreload extension is already loaded. To reload it, use:\n",
      "  %reload_ext autoreload\n",
      "🔄 Auto-reload enabled - modules will be automatically reloaded when changed\n",
      "💻 Detected local environment\n",
      "🔧 Enzo interpreter loaded from local source\n",
      "✅ Enzo parser and evaluator loaded successfully\n",
      "🪄 Magic commands registered:\n",
      "   %%enzo        - Execute Enzo code\n",
      "   %enzo_reset   - Clear all Enzo variables\n",
      "   %%enzo_fresh  - Reset environment then execute Enzo code\n",
      "✅ Enzo setup complete!\n",
      "\n",
      "Usage examples:\n",
      "%%enzo\n",
      "$greeting: \"Hello, Enzo!\";\n",
      "$greeting;\n",
      "\n",
      "%%enzo_fresh  # Starts with clean environment\n",
      "$greeting: \"Hello again!\";\n",
      "$greeting;\n"
     ]
    }
   ],
   "source": [
    "# Import the setup module\n",
    "from enzo_notebook_setup import setup_enzo_with_autoreload\n",
    "\n",
    "# Setup Enzo with auto-reload functionality\n",
    "parse, eval_ast = setup_enzo_with_autoreload()"
   ]
  },
  {
   "cell_type": "markdown",
   "id": "2f293589",
   "metadata": {},
   "source": [
    "## 💬 Comments"
   ]
  },
  {
   "cell_type": "code",
   "execution_count": 21,
   "id": "5139c1e9",
   "metadata": {},
   "outputs": [],
   "source": [
    "%%enzo\n",
    "// single line comment, will not appear in final output. This allows you to write things in the source code for you to read and help remember what stuff does.\n",
    "/' block comment, the use of single quote has better keyboard ergonomics than the star symbol typically used '/\n",
    "//= Test case title commment. Used for breaking up test cases as part of the automated regression testing and will appear on the frontend to the user."
   ]
  },
  {
   "cell_type": "markdown",
   "id": "b2c1d9e4",
   "metadata": {},
   "source": [
    "## ⚛️ Atoms\n",
    "\n",
    "Atoms are the most basic parts of the enzo language. Atoms are separated by a semi-colon `;` punctuation.\n",
    "\n",
    "Atoms can be bound to a keyname using the `:` operator. Keynames are distinguished with the `$` sigil."
   ]
  },
  {
   "cell_type": "code",
   "execution_count": 27,
   "id": "403d4a0d",
   "metadata": {},
   "outputs": [
    {
     "name": "stdout",
     "output_type": "stream",
     "text": [
      "atomvalue\n"
     ]
    }
   ],
   "source": [
    "%%enzo_fresh\n",
    "$keyname: \"atomvalue\";\n",
    "$keyname; // this invokes the atomvalue"
   ]
  },
  {
   "cell_type": "markdown",
   "id": "d73ddff8",
   "metadata": {},
   "source": [
    "You use keynames to more easily invoke that atomvalue where you need in code. An atom bound to a keyname is a variable.\n",
    "\n",
    "There are 5 types of atoms. These types are [static but inferred](https://www.perplexity.ai/search/plain-language-explanation-of-bIpK7TNKTtCK.Ao8RdeIuw)."
   ]
  },
  {
   "cell_type": "markdown",
   "id": "c5d8e1f0",
   "metadata": {},
   "source": [
    "### Number atom\n",
    "A Number atom is any [real number](https://en.wikipedia.org/wiki/Real_number)."
   ]
  },
  {
   "cell_type": "code",
   "execution_count": 15,
   "id": "a1b3c5d7",
   "metadata": {},
   "outputs": [
    {
     "name": "stdout",
     "output_type": "stream",
     "text": [
      "-300\n"
     ]
    }
   ],
   "source": [
    "%%enzo\n",
    "100;\n",
    "0;\n",
    "120000;\n",
    "0.5;\n",
    "-300;"
   ]
  },
  {
   "cell_type": "markdown",
   "id": "d2c76d36",
   "metadata": {},
   "source": [
    "Example of a Number atom bound to a keyname, and then invoked:"
   ]
  },
  {
   "cell_type": "code",
   "execution_count": 32,
   "id": "ad206729",
   "metadata": {},
   "outputs": [
    {
     "name": "stdout",
     "output_type": "stream",
     "text": [
      "888\n"
     ]
    }
   ],
   "source": [
    "%%enzo_fresh\n",
    "$number-example: 888;\n",
    "$number-example;"
   ]
  },
  {
   "cell_type": "markdown",
   "id": "f8a7b6c9",
   "metadata": {},
   "source": [
    "### Text (string)\n",
    "A Text atom is any sequence of characters enclosed in double quotes `\"...\"`.\n",
    "This includes letters, numbers, punctuation, spaces, emoji, or [any valid Unicode symbol](https://en.wikipedia.org/wiki/Unicode)."
   ]
  },
  {
   "cell_type": "code",
   "execution_count": 14,
   "id": "d2e4f6a8",
   "metadata": {},
   "outputs": [
    {
     "name": "stdout",
     "output_type": "stream",
     "text": [
      "name_stuff_123\n"
     ]
    }
   ],
   "source": [
    "%%enzo\n",
    "\"hello world\";\n",
    "\"100\";     // note: this is *Text*, not a Number\n",
    "\"π ≈ 3.14159\";\n",
    "\"emoji: 😀\";\n",
    "\"name_stuff_123\";"
   ]
  },
  {
   "cell_type": "markdown",
   "id": "3257b944",
   "metadata": {},
   "source": [
    "Example of Text atom bound to a keyname and invoked:"
   ]
  },
  {
   "cell_type": "code",
   "execution_count": 33,
   "id": "6b7cd00d",
   "metadata": {},
   "outputs": [
    {
     "name": "stdout",
     "output_type": "stream",
     "text": [
      "here is some text\n"
     ]
    }
   ],
   "source": [
    "%%enzo_fresh\n",
    "$text-example: \"here is some text\";\n",
    "$text-example;"
   ]
  },
  {
   "cell_type": "markdown",
   "id": "1b81c1fb",
   "metadata": {},
   "source": [
    "### List (array/list/map/object/dict)\n",
    "A list atom is an ordered sequence of values, either atoms, keynames referencing those atoms, or keyname-atomvalue pairs, enclosed in brackets `[...]`."
   ]
  },
  {
   "cell_type": "code",
   "execution_count": 35,
   "id": "48b272b0",
   "metadata": {},
   "outputs": [
    {
     "name": "stdout",
     "output_type": "stream",
     "text": [
      "[$one: 1, $two-and-three: [2, 3], $can-nest: [$nested: \"yes\"]]\n"
     ]
    }
   ],
   "source": [
    "%%enzo\n",
    "[1, 2, 3];\n",
    "[\"a\", \"b\", \"c\"];\n",
    "[1, \"two\", [3], $four: 4, [$5-list: \"value\"]];\n",
    "[$name: \"Alice\", $age: 30];\n",
    "[\n",
    "    $one: 1,\n",
    "    $two-and-three: [2, 3],\n",
    "    $can-nest: [\n",
    "        $nested: \"yes\"\n",
    "    ]\n",
    "];"
   ]
  },
  {
   "cell_type": "markdown",
   "id": "19fecadd",
   "metadata": {},
   "source": [
    "Example of List atom bound to to a keyname and invoked:"
   ]
  },
  {
   "cell_type": "code",
   "execution_count": 38,
   "id": "8e631073",
   "metadata": {},
   "outputs": [
    {
     "name": "stdout",
     "output_type": "stream",
     "text": [
      "[\"here is some text\", 666, \"an example item for the list received via variable invocation\"]\n"
     ]
    }
   ],
   "source": [
    "%%enzo_fresh\n",
    "$keyname-example: \"an example item for the list received via variable invocation\";\n",
    "$list-example: [\"here is some text\", 666, $keyname-example];\n",
    "$list-example;"
   ]
  },
  {
   "cell_type": "markdown",
   "id": "469a6e3c",
   "metadata": {},
   "source": [
    "Example of a list making heavy use of keyname-atomvalue pairs:"
   ]
  },
  {
   "cell_type": "code",
   "execution_count": 39,
   "id": "2eb38008",
   "metadata": {},
   "outputs": [],
   "source": [
    "%%enzo_fresh\n",
    "$long-list-example: [\n",
    "    $property: \"this is a value which is paired to the property\",\n",
    "    $property2: 2,\n",
    "    $property3: [ 3, \"three\"],\n",
    "        $property4: [\n",
    "            $property: \"second layer of a nested List\",\n",
    "            $property2: \"Lists are basically the same as maps or objects in other languages\"],\n",
    "            exampleFunction: (\n",
    "            return(\"this is what a list Function (method) looks like\");\n",
    "            ),\n",
    "            $property3: [\n",
    "                $property: \"third layer of a nested list\",\n",
    "                $property2: \"you can nest lists as deeply as you want\",\n",
    "                $property3:\"this property value could be invoked using '$list-example.property4.property3'\"]\n",
    "];"
   ]
  },
  {
   "cell_type": "markdown",
   "id": "c47e391e",
   "metadata": {},
   "source": [
    "You can access a specific item in the list via a numbered index like so:"
   ]
  },
  {
   "cell_type": "code",
   "execution_count": 41,
   "id": "0a52f008",
   "metadata": {},
   "outputs": [
    {
     "name": "stdout",
     "output_type": "stream",
     "text": [
      "blue\n"
     ]
    }
   ],
   "source": [
    "%%enzo_fresh\n",
    "$colors: [\"red\", \"green\", \"blue\", \"yellow\"];\n",
    "\n",
    "$firstColor:  $colors.1;   // \"red\"\n",
    "$thirdColor:  $colors.3;   // \"blue\"\n",
    "\n",
    "// Using a simple computed index\n",
    "$indexToFind: 2;\n",
    "$secondColor: $colors.$indexToFind;\n",
    "// resolves to $colors.1 -> \"green\"\n",
    "\n",
    "// More complex computed index requires a function atom:\n",
    "$fourthColor: $colors.($indexToFind + 1);\n",
    "$fourthColor;"
   ]
  },
  {
   "cell_type": "markdown",
   "id": "e58cded1",
   "metadata": {},
   "source": [
    "The numeric indexing of lists starts at 1."
   ]
  },
  {
   "cell_type": "markdown",
   "id": "ce641e48",
   "metadata": {},
   "source": [
    "#### Dot-Numeric vs. Property Access\n",
    "- **List property access** uses a “dot + identifier” (e.g. `$user.name`).\n",
    "- **List indexing** uses a “dot + integer literal” (e.g. `$user.friends.2`)—the parser sees the digit immediately after the dot and interprets it as list indexing rather than property lookup."
   ]
  },
  {
   "cell_type": "code",
   "execution_count": 42,
   "id": "f70cd787",
   "metadata": {},
   "outputs": [
    {
     "name": "stdout",
     "output_type": "stream",
     "text": [
      "logout\n"
     ]
    }
   ],
   "source": [
    "%%enzo_fresh\n",
    "// List with a numeric property versus a list:\n",
    "$user: [\n",
    "  name: \"Alice\",\n",
    "  logs: [\"login\",\"logout\",\"login\"]\n",
    "];\n",
    "\n",
    "// To get \"logout\":\n",
    "$secondLog: $user.logs.2;    // -> \"logout\"\n",
    "$secondLog;"
   ]
  },
  {
   "cell_type": "markdown",
   "id": "956f3cc6",
   "metadata": {},
   "source": [
    "### Interpolation\n",
    "Sometimes you need to insert a value into another value. Many languages do this with concatenation, or spread operators but Enzo does this through interpolation.\n",
    "#### Text interpolation\n",
    "Text interpolation allows you to insert dynamic values into Text:"
   ]
  },
  {
   "cell_type": "code",
   "execution_count": 45,
   "id": "4f272805",
   "metadata": {},
   "outputs": [
    {
     "name": "stdout",
     "output_type": "stream",
     "text": [
      "the result of the two variables added together is 8\n"
     ]
    }
   ],
   "source": [
    "%%enzo_fresh\n",
    "$name: \"Bob\";\n",
    "$favorite-color: \"blue\";\n",
    "$request-shirt: \"Hi, my name is <$name>, can I get a <$favorite-color> shirt, please?\";\n",
    "$request-shirt; // invokes \"Hi, my name is Bob, can I get a blue shirt, please?\"\n",
    "\n",
    "// You can also run functions in interpolation (functions explained below)\n",
    "$number-example: 5;\n",
    "$number-example2: 3;\n",
    "$text-example: \"the result of the two variables added together is <$number-example + $number-example2;>\"\n",
    "\n",
    "$text-example; //returns the Text \"the result of the two variables added together is 8\""
   ]
  },
  {
   "cell_type": "markdown",
   "id": "4202239a",
   "metadata": {},
   "source": [
    "#### List interpolation (spread/append/prepend)\n",
    "List interpolation allows you to make new lists from other lists or values.\n",
    "\n",
    "Example of non-interpolated list composition:"
   ]
  },
  {
   "cell_type": "code",
   "execution_count": 46,
   "id": "26b6e24c",
   "metadata": {},
   "outputs": [
    {
     "name": "stdout",
     "output_type": "stream",
     "text": [
      "[[1, 2, 3], [4, 5, 6]]\n"
     ]
    }
   ],
   "source": [
    "%%enzo_fresh\n",
    "$list1: [1, 2, 3];\n",
    "$list2: [4, 5, 6];\n",
    "\n",
    "$list3: [$list1, $list2];\n",
    "$list3; // returns a nested list of `[[1, 2, 3], [4, 5, 6]]`\n"
   ]
  },
  {
   "cell_type": "markdown",
   "id": "0732f83f",
   "metadata": {},
   "source": [
    "Example of interpolated List composition:"
   ]
  },
  {
   "cell_type": "code",
   "execution_count": 47,
   "id": "f766db17",
   "metadata": {},
   "outputs": [
    {
     "name": "stdout",
     "output_type": "stream",
     "text": [
      "[0, 1, 2, 3, \"hot dog explosion\"]\n"
     ]
    }
   ],
   "source": [
    "%%enzo_fresh\n",
    "$list1: [1, 2, 3];\n",
    "$list2: [4, 5, 6];\n",
    "\n",
    "$list3: [<$list1>, <$list2>];\n",
    "$list3; // returns a flat list of `[1, 2, 3, 4, 5, 6]`\n",
    "\n",
    "// you can prepend or append items to a list using interpolation like so:\n",
    "//prepend\n",
    "[0, <$list1>] :> $list1;\n",
    "$list1; // returns a list of `[0, 1, 2, 3]`\n",
    "\n",
    "//append\n",
    "$list1<: [<$list1>, \"hot dog explosion\"];\n",
    "$list1; // returns a list of `[0, 1, 2, 3, \"hot dog explosion\"]`"
   ]
  },
  {
   "cell_type": "markdown",
   "id": "c1f02782",
   "metadata": {},
   "source": [
    "### Function (anonymous function/expression block)\n",
    "A function atom is a piece of code that does something and gives an atomvalue back.\n",
    "\n",
    "Examples:\n",
    "\n",
    "Basic arithmetic"
   ]
  },
  {
   "cell_type": "code",
   "execution_count": 48,
   "id": "6a588da5",
   "metadata": {},
   "outputs": [
    {
     "name": "stdout",
     "output_type": "stream",
     "text": [
      "❌ Error: error: too many args\n"
     ]
    }
   ],
   "source": [
    "%%enzo_fresh\n",
    "(2 + 2);    // returns 4\n",
    "(2 - 3);    // returns -1\n",
    "(50 * 100); // returns 5000\n",
    "(20 / 5);   // returns 4\n",
    "(5 % 2);    // modulo returns 1 (Euclidean style remainder)"
   ]
  },
  {
   "cell_type": "code",
   "execution_count": 49,
   "id": "b82e6e23",
   "metadata": {},
   "outputs": [
    {
     "name": "stdout",
     "output_type": "stream",
     "text": [
      "4\n"
     ]
    }
   ],
   "source": [
    "%%enzo_fresh\n",
    "// Testing individual arithmetic operations\n",
    "(2 + 2);"
   ]
  },
  {
   "cell_type": "code",
   "execution_count": 50,
   "id": "fe9057f4",
   "metadata": {},
   "outputs": [
    {
     "name": "stdout",
     "output_type": "stream",
     "text": [
      "1\n"
     ]
    }
   ],
   "source": [
    "%%enzo_fresh\n",
    "// Testing modulo operation specifically\n",
    "(5 % 2);"
   ]
  },
  {
   "cell_type": "code",
   "execution_count": 51,
   "id": "060038a4",
   "metadata": {},
   "outputs": [
    {
     "name": "stdout",
     "output_type": "stream",
     "text": [
      "❌ Error: error: too many args\n"
     ]
    }
   ],
   "source": [
    "%%enzo_fresh\n",
    "// Testing two statements\n",
    "(2 + 2);\n",
    "(2 - 3);"
   ]
  }
 ],
 "metadata": {
  "kernelspec": {
   "display_name": "Enzo Lang Poetry",
   "language": "python",
   "name": "enzo-lang"
  },
  "language_info": {
   "codemirror_mode": {
    "name": "ipython",
    "version": 3
   },
   "file_extension": ".py",
   "mimetype": "text/x-python",
   "name": "python",
   "nbconvert_exporter": "python",
   "pygments_lexer": "ipython3",
   "version": "3.13.2"
  }
 },
 "nbformat": 4,
 "nbformat_minor": 5
}
