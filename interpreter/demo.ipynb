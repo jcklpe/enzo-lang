{
 "cells": [
  {
   "cell_type": "markdown",
   "id": "a3b1c8d7",
   "metadata": {},
   "source": [
    "# enzo-lang\n",
    "\n",
    "![alt text](https://camo.githubusercontent.com/9e797147daf16041dfcd9edb30da8e0045df89386726b3c603b360bcd5e6fa4c/68747470733a2f2f6861636b6d642e696f2f5f75706c6f6164732f424a54467141575665782e706e67)\n",
    "\n",
    "Code is the ultimate user interface. It is the final user interface on which all other user interfaces are built. So I think it’s interesting to explore this space as a UX designer.\n",
    "\n",
    "Back around 2018-2020 I was taking online courses on programming. I'd get frustrated, confused, or find a particular way of doing things ugly. I needed a creative outlet, so I would vent that frustration by writing this syntax sketch of my own fantasy language. Writing it helped me better focus on and understand the things I was learning in my course. I had no intention of implementing this language syntax. But now I have implemented it! (a toy interpreter in the Python runtime using a custom AST, parser, evaluator, REPL CLI, and file runner with a vscode syntax highlighting plugin.)\n",
    "\n",
    "I'd love feedback but keep in mind this is basically a kid drawing racecars and wishing to be Batman. I don't pretend that this language is anything more than a sort of weird art project. I'm doing this for my own enjoyment and to help me better understand programming. This language will never be used in the real world, and I don't think I'll be making much it myself anytime soon. I don't make any claim that it better designed, or superior to any existing language, aesthetic or otherwise. \n",
    "\n",
    "Instead it is just an expression of perspective. I like this syntax. It makes sense to me. Designing it, and then engaging with it's implementation taught me a lot about programming, ironic in a project where the vast majority of code was implemented via LLM agents. \n",
    "\n",
    "Also want to give a shout out to the [\"Quorum Language Project\"](https://quorumlanguage.com/) for opening my eyes to the intersection between UX practice and syntax design. One reason why I make the art project distinction is that Quorum seeks to apply the empirical method to finding out how different syntax features measurably effect performance on programming benchmarks. Enzo does not. Much like a painting sometimes I feel differently one day to another. I would be curious to see how empirical results might actually turn out on it though, both personal experience, and UX studies. \n",
    "\n",
    "**The great irony of all this**\n",
    "\n",
    "It's worth pointing out the irony of implementing a programming syntax using an LLM, in that now the primary consumer and user of a syntax may be more LLM than human. LLMs perform best on Python because there is so much training data for it. What of Enzo is there to train on? The thing that enabled me to build this interpreter is also the thing that makes it obsolete. It is a toy. Toys are fun. "
   ]
  },
  {
   "cell_type": "markdown",
   "id": "e9f0a2b1",
   "metadata": {},
   "source": [
    "## 🛠️ Setup\n",
    "\n",
    "**One line does it all!** This notebook works in both **local VS Code** and **Google Colab**.\n",
    "\n",
    "Just run the setup cell below - it automatically detects your environment and sets up everything you need.\n",
    "\n",
    "You'll see \"✅ Enzo ready!\" when it's finished."
   ]
  },
  {
   "cell_type": "code",
   "execution_count": 6,
   "id": "f4c5d6e8",
   "metadata": {},
   "outputs": [
    {
     "name": "stdout",
     "output_type": "stream",
     "text": [
      "The autoreload extension is already loaded. To reload it, use:\n",
      "  %reload_ext autoreload\n",
      "🔄 Auto-reload enabled - modules will be automatically reloaded when changed\n",
      "💻 Detected local environment\n",
      "🔧 Enzo interpreter loaded from local source\n",
      "✅ Enzo parser and evaluator loaded successfully\n",
      "🪄 Magic commands registered:\n",
      "   %%enzo        - Execute Enzo code\n",
      "   %enzo_reset   - Clear all Enzo variables\n",
      "   %%enzo_fresh  - Reset environment then execute Enzo code\n",
      "✅ Enzo setup complete!\n"
     ]
    }
   ],
   "source": [
    "# One-line Enzo setup for any environment\n",
    "import urllib.request\n",
    "exec(urllib.request.urlopen('https://raw.githubusercontent.com/jcklpe/enzo-lang/master/interpreter/enzo_universal_setup.py').read().decode())\n",
    "quick_setup();"
   ]
  },
  {
   "cell_type": "markdown",
   "id": "e8098b13",
   "metadata": {},
   "source": [
    "# Enzo Essentials\n",
    "\n",
    "Welcome to **Enzo** - a toy programming language that explores what programming syntax could look like with different design choices.\n",
    "\n",
    "**Everything is an atomvalue** in Enzo. Atomvalues can be bound to keynames. Let's explore the types of atoms and what you can do with them."
   ]
  },
  {
   "cell_type": "markdown",
   "id": "2795f65c",
   "metadata": {},
   "source": [
    "## Atoms and Keynames\n",
    "\n",
    "Atoms are the basic building blocks. They're separated by semicolons `;` and can be bound to keynames with `:`"
   ]
  },
  {
   "cell_type": "code",
   "execution_count": 7,
   "id": "5e8eb14a",
   "metadata": {},
   "outputs": [
    {
     "name": "stdout",
     "output_type": "stream",
     "text": [
      "15\n"
     ]
    }
   ],
   "source": [
    "%%enzo_fresh\n",
    "// Number atoms\n",
    "42;\n",
    "3.14159;\n",
    "-100;\n",
    "\n",
    "// Text atoms (with interpolation)\n",
    "\"Hello, world!\";\n",
    "$name: \"Alice\";\n",
    "\"Hello, <$name>!\";\n",
    "\n",
    "// List atoms (arrays, maps, objects all in one)\n",
    "[1, 2, 3];                    // Array-like\n",
    "[$name: \"Bob\", $age: 30];     // Object-like\n",
    "[1, $key: \"value\", 3];        // Mixed\n",
    "\n",
    "// creating nested lists\n",
    "$fruits: [\"apple\", \"banana\"];\n",
    "$veggies: [\"carrot\", \"broccoli\"];\n",
    "$nested: [$fruits, $veggies];\n",
    "$nested;  // [[\"apple\", \"banana\"], [\"carrot\", \"broccoli\"]]\n",
    "\n",
    "// With interpolation - spreads/flattens lists\n",
    "$flat: [<$fruits>, <$veggies>];\n",
    "$flat;    // [\"apple\", \"banana\", \"carrot\", \"broccoli\"]\n",
    "\n",
    "// Prepend and append with interpolation\n",
    "$extended: [\"orange\", <$fruits>, \"plums\"];\n",
    "$extended;  // [\"orange\", \"apple\", \"banana\", \"plums\"]\n",
    "\n",
    "// Function atoms (executable code)\n",
    "(2 + 2);                      // Simple expression\n",
    "($x: 5; $x * 2);             // With local variables\n",
    "\n",
    "// Binding atoms to keynames\n",
    "$my_number: 42;\n",
    "$my_text: \"Hello\";\n",
    "$my_list: [1, 2, 3];\n",
    "$my_function: ($x: 10; $x + 5);\n",
    "\n",
    "// Invoking keynames\n",
    "$my_number;\n",
    "$my_function;\n",
    "my_function();\n",
    "$my_function(); // all three of these are valid ways to invoke a function"
   ]
  },
  {
   "cell_type": "markdown",
   "id": "e7170aba",
   "metadata": {},
   "source": [
    "## Rebinding Keynames\n",
    "\n",
    "Once a keyname is bound to a value, you can change what it points to using rebinding operators:"
   ]
  },
  {
   "cell_type": "code",
   "execution_count": 8,
   "id": "9eaff034",
   "metadata": {},
   "outputs": [
    {
     "name": "stdout",
     "output_type": "stream",
     "text": [
      "❌ Error: error: cannot bind Text to Number\n"
     ]
    }
   ],
   "source": [
    "%%enzo_fresh\n",
    "// Initial binding\n",
    "$counter: 0;\n",
    "$message: \"Hello\";\n",
    "$status: \"inactive\";\n",
    "\n",
    "// Rebinding with <: (left-to-right)\n",
    "$counter <: 5;\n",
    "$message <: \"Goodbye\";\n",
    "\n",
    "// Rebinding with :> (right-to-left)\n",
    "\"active\" :> $status;\n",
    "42 :> $counter;\n",
    "\n",
    "// Check current values\n",
    "$counter;   // 42\n",
    "$message;   // \"Goodbye\"\n",
    "$status;    // \"active\"\n",
    "\n",
    "// Type consistency - first non-empty value locks the type\n",
    "$flexible: ;           // Empty, no type yet\n",
    "$flexible <: 100;      // Now locked as Number type\n",
    "$flexible <: 200;      // OK - both Numbers\n",
    "$flexible <: \"text\"; // Would error - cant rebind Number to Text"
   ]
  },
  {
   "cell_type": "markdown",
   "id": "69e56e63",
   "metadata": {},
   "source": [
    "## Function Atoms\n",
    "\n",
    "Function atoms are executable code blocks created with parentheses. They're evaluated when their value is needed."
   ]
  },
  {
   "cell_type": "code",
   "execution_count": 9,
   "id": "32dd6868",
   "metadata": {},
   "outputs": [
    {
     "name": "stdout",
     "output_type": "stream",
     "text": [
      "4\n"
     ]
    }
   ],
   "source": [
    "%%enzo_fresh\n",
    "// Function atoms with parameters\n",
    "greet: (\n",
    "    param $name: \"World\";\n",
    "    return(\"Hello, <$name>!\");\n",
    ");\n",
    "\n",
    "greet();         // Hello, World!\n",
    "greet(\"Alice\");  // Hello, Alice!\n",
    "\n",
    "// Stored vs. immediate evaluation\n",
    "$stored: (2 * 2);      // Stores `(2*2)`, variable of type Function\n",
    "$stored();             // Invokes the function, and evaluates `(2*2)`.\n",
    "$immediate: !(2 * 2);  // Stores `4`, variable of type Number\n",
    "$immediate;"
   ]
  },
  {
   "cell_type": "markdown",
   "id": "aa265276",
   "metadata": {},
   "source": [
    "## Conditional Flow\n",
    "\n",
    "Enzo uses natural language for control flow instead of symbols."
   ]
  },
  {
   "cell_type": "code",
   "execution_count": 10,
   "id": "56e09417",
   "metadata": {},
   "outputs": [
    {
     "name": "stdout",
     "output_type": "stream",
     "text": [
      "Found test string\n"
     ]
    }
   ],
   "source": [
    "%%enzo_fresh\n",
    "$score: 95;\n",
    "$weather: \"sunny\";\n",
    "$age: 25;\n",
    "$items: [\"apple\", \"banana\", \"cherry\"];\n",
    "\n",
    "// Basic conditions\n",
    "If $score is greater than 90, (\n",
    "    \"Excellent!\";\n",
    ");\n",
    "\n",
    "// If-else\n",
    "If $weather is \"rainy\", (\n",
    "    \"Bring umbrella\";\n",
    "), Else, (\n",
    "    \"No umbrella needed\";\n",
    ");\n",
    "\n",
    "// Comparison operators lightning round\n",
    "If $age is less than 18, (\n",
    "    \"Minor\";\n",
    ");\n",
    "\n",
    "If $score is at least 85, (\n",
    "    \"Honor roll\";\n",
    ");\n",
    "\n",
    "If $age is at least 18 and at most 65, (\n",
    "    \"Working age\";\n",
    ");\n",
    "\n",
    "// Multi-branch checks (switch-like) with pattern matching\n",
    "$user_input: \"banana\";\n",
    "\n",
    "If $user_input either is Number, (\n",
    "    \"Got a number: <$user_input>\";\n",
    "),\n",
    "or contains \"apple\", (\n",
    "    \"Something with apple\";\n",
    "),\n",
    "or is \"banana\", (\n",
    "    \"Exact banana match\";\n",
    "),\n",
    "or is greater than 100, (\n",
    "    \"Big number\";\n",
    ");\n",
    "Otherwise, (\n",
    "    \"Something else entirely\";\n",
    ");\n",
    "\n",
    "// Pattern matching with lists\n",
    "$data: [1, \"test\", 3];\n",
    "\n",
    "If $data either contains \"test\", (\n",
    "    \"Found test string\";\n",
    "),\n",
    "or is [1, 2, 3], (\n",
    "    \"Exact number sequence\";\n",
    "),\n",
    "or contains Number, (\n",
    "    \"Contains numbers\";\n",
    ");\n",
    "Otherwise, (\n",
    "    \"No pattern matched\";\n",
    ");"
   ]
  },
  {
   "cell_type": "markdown",
   "id": "b9e16653",
   "metadata": {},
   "source": [
    "## Looping Flow"
   ]
  },
  {
   "cell_type": "code",
   "execution_count": 11,
   "id": "2d2e36bd",
   "metadata": {},
   "outputs": [
    {
     "name": "stdout",
     "output_type": "stream",
     "text": [
      "['Found 3!']\n"
     ]
    }
   ],
   "source": [
    "%%enzo_fresh\n",
    "$numbers: [1, 2, 3, 4, 5];\n",
    "\n",
    "// Basic Loop\n",
    "Loop, (\n",
    "    \"This could go on forever without an end-loop\";\n",
    "    end-loop;\n",
    ");\n",
    "\n",
    "// For loops\n",
    "Loop for $num in $numbers, (\n",
    "    \"Number: <$num>\";\n",
    ");\n",
    "\n",
    "// While loops\n",
    "$count: 0;\n",
    "Loop while $count is less than 3, (\n",
    "    $count + 1 :> $count;\n",
    "    \"Count: <$count>\";\n",
    ");\n",
    "\n",
    "// Loop with conditional exit\n",
    "Loop for $num in $numbers, (\n",
    "    If $num is 3, (\n",
    "        \"Found 3!\";\n",
    "        end-loop;\n",
    "        restart-loop; // you could also use restart-loop which will exit early but start on the next iteration.\n",
    "    );\n",
    ");"
   ]
  },
  {
   "cell_type": "markdown",
   "id": "11dae1e7",
   "metadata": {},
   "source": [
    "## Pipeline Flow"
   ]
  },
  {
   "cell_type": "code",
   "execution_count": 12,
   "id": "788062e1",
   "metadata": {},
   "outputs": [
    {
     "name": "stdout",
     "output_type": "stream",
     "text": [
      "Message: hello (processed)\n"
     ]
    }
   ],
   "source": [
    "%%enzo_fresh\n",
    "// Left-to-right data flow with 'then' and '$this'\n",
    "100 then ($this + 1) then ($this * 2);  // returns 202\n",
    "\n",
    "// Pipeline with list access\n",
    "$data: [5, 10, 15];\n",
    "$data.2 then ($this * 3) then ($this + 1);\n",
    "\n",
    "// Use in text interpolation\n",
    "\"hello\"\n",
    "    then (\"Message: <$this>\")\n",
    "    then (\"<$this> (processed)\"); // returns `Message: hello (processed)`"
   ]
  },
  {
   "cell_type": "markdown",
   "id": "3b129eff",
   "metadata": {},
   "source": [
    "## Custom Types: Blueprints"
   ]
  },
  {
   "cell_type": "code",
   "execution_count": 13,
   "id": "13163867",
   "metadata": {},
   "outputs": [
    {
     "name": "stdout",
     "output_type": "stream",
     "text": [
      "Hi, I'm Alice!\n"
     ]
    }
   ],
   "source": [
    "%%enzo_fresh\n",
    "// Define a blueprint (custom type)\n",
    "Person: <[\n",
    "    name: \"Anonymous\",\n",
    "    age: 0,\n",
    "    greet: (\n",
    "        return(\"Hi, I'm <$self.name>!\");\n",
    "    )\n",
    "]>;\n",
    "\n",
    "// Create instances\n",
    "$alice: Person[\n",
    "    $name: \"Alice\",\n",
    "    $age: 30\n",
    "];\n",
    "\n",
    "$bob: Person[\n",
    "    $name: \"Bob\",\n",
    "    $age: 25\n",
    "];\n",
    "\n",
    "$alice.name;\n",
    "$alice.greet();"
   ]
  },
  {
   "cell_type": "markdown",
   "id": "ba1741a1",
   "metadata": {},
   "source": [
    "## Blueprint Composition\n",
    "\n",
    "You can combine blueprints to reuse common parts and create more complex types:"
   ]
  },
  {
   "cell_type": "code",
   "execution_count": 14,
   "id": "24fb4cb6",
   "metadata": {},
   "outputs": [
    {
     "name": "stdout",
     "output_type": "stream",
     "text": [
      "Donald is swimming!\n"
     ]
    }
   ],
   "source": [
    "%%enzo_fresh\n",
    "// Define reusable blueprint components\n",
    "Animal: <[\n",
    "    position: [0, 0, 0],\n",
    "    name: \"Unknown\"\n",
    "]>;\n",
    "\n",
    "Flying: <[\n",
    "    wings: \"true\",\n",
    "    fly: (\n",
    "        param $height: 10;\n",
    "        $self.position.3 + $height :> $self.position.3;\n",
    "        return(\"Flying at height <$self.position.3>\");\n",
    "    )\n",
    "]>;\n",
    "\n",
    "Swimming: <[\n",
    "    fins: \"true\",\n",
    "    swim: (\n",
    "        return(\"<$self.name> is swimming!\");\n",
    "    )\n",
    "]>;\n",
    "\n",
    "// Combine blueprints with 'and'\n",
    "Duck: Animal and Flying and Swimming;\n",
    "\n",
    "$donald: Duck[\n",
    "    $name: \"Donald\",\n",
    "    $position: [5, 10, 0],\n",
    "    $fins: \"false\"\n",
    "];\n",
    "\n",
    "$donald.fly(20);\n",
    "$donald.swim();\n"
   ]
  },
  {
   "cell_type": "markdown",
   "id": "d6c6afce",
   "metadata": {},
   "source": [
    "## Blueprint Variant Groups\n",
    "\n",
    "Sometimes you want a value to be one of several specific options (like enums or sum types):"
   ]
  },
  {
   "cell_type": "code",
   "execution_count": 15,
   "id": "c508dc80",
   "metadata": {},
   "outputs": [
    {
     "name": "stdout",
     "output_type": "stream",
     "text": [
      "GRAAAH!\n"
     ]
    }
   ],
   "source": [
    "%%enzo_fresh\n",
    "// Simple variant groups (like enums)\n",
    "Status variants: Active,\n",
    "                or Inactive,\n",
    "                or Pending;\n",
    "\n",
    "$user_status: Status.Active;\n",
    "$user_status;\n",
    "\n",
    "// Variant groups with blueprints (sum-of-products)\n",
    "Monster variants:\n",
    "    Goblin: <[\n",
    "        health: 50,\n",
    "        weapon: \"club\",\n",
    "        cackle: (\n",
    "            return(\"Heeheehee!\");\n",
    "        )\n",
    "    ]>,\n",
    "    or Orc: <[\n",
    "        health: 100,\n",
    "        weapon: \"sword\",\n",
    "        roar: (\n",
    "            return(\"GRAAAH!\");\n",
    "        )\n",
    "    ]>,\n",
    "    or Troll: <[\n",
    "        health: 200,\n",
    "        weapon: \"boulder\",\n",
    "        smash: (\n",
    "            return(\"SMASH!\");\n",
    "        )\n",
    "    ]>;\n",
    "\n",
    "$enemy1: Monster.Goblin[$health: 45];\n",
    "$enemy2: Monster.Orc[$weapon: \"axe\"];\n",
    "\n",
    "$enemy1.cackle();\n",
    "$enemy2.roar();"
   ]
  },
  {
   "cell_type": "markdown",
   "id": "441a276b",
   "metadata": {},
   "source": [
    "## Copy vs Reference"
   ]
  },
  {
   "cell_type": "code",
   "execution_count": 16,
   "id": "bbc435e2",
   "metadata": {},
   "outputs": [
    {
     "name": "stdout",
     "output_type": "stream",
     "text": [
      "8\n"
     ]
    }
   ],
   "source": [
    "%%enzo_fresh\n",
    "// By default, everything is copy-by-value\n",
    "$original: [1, 2, 3];\n",
    "$copy: $original;\n",
    "$copy.1 <: 999;\n",
    "$original;  // Still [1, 2, 3]\n",
    "$copy;      // Now [999, 2, 3]\n",
    "\n",
    "// Use @ for references\n",
    "$ref: @original;\n",
    "$ref.1 <: 777;\n",
    "$original;  // Now [777, 2, 3]\n",
    "$ref;       // Also [777, 2, 3]\n",
    "\n",
    "// Works with functions too\n",
    "increment: (param $x: 1; $x + 1);\n",
    "$func_copy: $increment(1);     // invokes the function and copies its value to the variable `$func_copy` type of Number\n",
    "$func_ref: @increment;         // Reference the function\n",
    "\n",
    "// Function references enable higher-order functions\n",
    "applyTwice: (\n",
    "    param $func: ();    // expects a function atom\n",
    "    param $value: 0;  // initial value, locks it to Number\n",
    "    $result: $func($value);\n",
    "    return($func($result));\n",
    ");\n",
    "\n",
    "double: (param $x: 0; $x * 2);\n",
    "square: (param $x: 0; $x * $x);\n",
    "\n",
    "// Pass function references with @\n",
    "applyTwice(@increment, 5);  // increment(increment(5)) = 7\n",
    "applyTwice(@double, 3);     // double(double(3)) = 12\n",
    "applyTwice(@square, 2);     // square(square(2)) = 16\n",
    "\n",
    "// You can store function references in lists\n",
    "$operations: [@increment, @double, @square];\n",
    "$operations.2(4);          // calls double(4) = 8"
   ]
  },
  {
   "cell_type": "markdown",
   "id": "06d47544",
   "metadata": {},
   "source": [
    "## Putting It All Together: A Simple Program\n",
    "\n",
    "Here's a small program that demonstrates multiple Enzo features working together:"
   ]
  },
  {
   "cell_type": "code",
   "execution_count": 17,
   "id": "33b58c69",
   "metadata": {},
   "outputs": [
    {
     "name": "stdout",
     "output_type": "stream",
     "text": [
      "Student Alice earned grade: A (Average: 90.75)\n"
     ]
    }
   ],
   "source": [
    "%%enzo_fresh\n",
    "// Student grading system\n",
    "Student: <[\n",
    "    name: \"Unknown\",\n",
    "    scores: [],\n",
    "    calculate_average: (\n",
    "        $total: 0;\n",
    "        $count: 0;\n",
    "        Loop for $score in $self.scores, (\n",
    "            $total + $score :> $total;\n",
    "            $count + 1 :> $count;\n",
    "        );\n",
    "        return($total / $count);\n",
    "    ),\n",
    "    get_grade: (\n",
    "        $avg: $self.calculate_average();\n",
    "        If $avg is greater than 90, (\n",
    "            return(\"A\");\n",
    "        ), Else if $avg is greater than 80, (\n",
    "            return(\"B\");\n",
    "        ), Else if $avg is greater than 70, (\n",
    "            return(\"C\");\n",
    "        ), Else, (\n",
    "            return(\"F\");\n",
    "        );\n",
    "    )\n",
    "]>;\n",
    "\n",
    "// Create students\n",
    "$alice: Student[\n",
    "    $name: \"Alice\",\n",
    "    $scores: [95, 87, 92, 89]\n",
    "];\n",
    "\n",
    "$bob: Student[\n",
    "    $name: \"Bob\",\n",
    "    $scores: [76, 82, 79, 85]\n",
    "];\n",
    "\n",
    "// Process results with pipelines\n",
    "$alice.get_grade()\n",
    "    then (\"Student <$alice.name> earned grade: <$this>\")\n",
    "    then (\"<$this> (Average: <$alice.calculate_average()>)\");"
   ]
  },
  {
   "cell_type": "markdown",
   "id": "81843988",
   "metadata": {},
   "source": [
    "## 🎮 Playground\n",
    "Try writing your own programs below, or edit cells above to try out different things. "
   ]
  },
  {
   "cell_type": "code",
   "execution_count": null,
   "id": "125570a6",
   "metadata": {},
   "outputs": [],
   "source": [
    "%%enzo_fresh\n",
    "// Playground - experiment here!\n",
    "// Try creating your own functions, blueprints, or algorithms\n"
   ]
  },
  {
   "cell_type": "code",
   "execution_count": null,
   "id": "2293496a",
   "metadata": {},
   "outputs": [],
   "source": [
    "%%enzo_fresh\n",
    "// Another playground cell - keep experimenting!"
   ]
  },
  {
   "cell_type": "markdown",
   "id": "73c3d730",
   "metadata": {},
   "source": [
    "---\n",
    "\n",
    "## Want more?\n",
    "You've now seen Enzo's core features, but for fuller explanation you can [check out the README doc](https://github.com/jcklpe/enzo-lang), or the [test suite](https://github.com/jcklpe/enzo-lang/tree/master/interpreter/tests). More articles about implementation details will be coming soon. "
   ]
  }
 ],
 "metadata": {
  "kernelspec": {
   "display_name": "Enzo Lang Poetry",
   "language": "python",
   "name": "enzo-lang"
  },
  "language_info": {
   "codemirror_mode": {
    "name": "ipython",
    "version": 3
   },
   "file_extension": ".py",
   "mimetype": "text/x-python",
   "name": "python",
   "nbconvert_exporter": "python",
   "pygments_lexer": "ipython3",
   "version": "3.13.2"
  }
 },
 "nbformat": 4,
 "nbformat_minor": 5
}
