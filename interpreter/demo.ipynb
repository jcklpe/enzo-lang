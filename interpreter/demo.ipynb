{
 "cells": [
  {
   "cell_type": "markdown",
   "id": "11218522",
   "metadata": {},
   "source": [
    "# 🧪 Enzo Playground (in Google Colab)\n",
    "This python notebook lets you run Enzo code directly in your browser.\n",
    "\n",
    "- No setup required\n",
    "- Interpreter loads automatically\n",
    "- Try out sample expressions or write your own!"
   ]
  },
  {
   "cell_type": "markdown",
   "id": "cf257c23",
   "metadata": {},
   "source": [
    "## 🛠️ Setup: Install dependencies and load Enzo interpreter\n",
    "You have to run the below code first before anything will work. Just click the little play button in the top left of the code cell. "
   ]
  },
  {
   "cell_type": "code",
   "execution_count": 1,
   "id": "31ab30b6",
   "metadata": {
    "collapsed": true,
    "tags": [
     "hide_input"
    ]
   },
   "outputs": [
    {
     "name": "stdout",
     "output_type": "stream",
     "text": [
      "Cloning into 'enzo-code'...\n",
      "remote: Enumerating objects: 20, done.\u001b[K\n",
      "remote: Counting objects: 100% (20/20), done.\u001b[K\n",
      "remote: Compressing objects: 100% (17/17), done.\u001b[K\n",
      "remote: Total 20 (delta 0), reused 16 (delta 0), pack-reused 0 (from 0)\u001b[K\n",
      "Receiving objects: 100% (20/20), 76.89 KiB | 1.13 MiB/s, done.\n"
     ]
    }
   ],
   "source": [
    "!pip install lark --quiet\n",
    "!git clone --depth 1 https://github.com/jcklpe/enzo-lang.git enzo-code\n",
    "# Setup Enzo interpreter imports\n",
    "import sys\n",
    "sys.path.insert(0, \"./src\")\n",
    "\n",
    "from enzo.parser import parse\n",
    "from enzo.evaluator import eval_ast\n",
    "\n",
    "# Register %%enzo magic command\n",
    "from IPython.core.magic import register_line_cell_magic\n",
    "\n",
    "@register_line_cell_magic\n",
    "def enzo(line, cell=None):\n",
    "    src = line if cell is None else cell\n",
    "    try:\n",
    "        result = eval_ast(parse(src))\n",
    "        print(result)\n",
    "    except Exception as e:\n",
    "        print(f\"❌ Error: {e}\")\n"
   ]
  },
  {
   "cell_type": "markdown",
   "id": "970cef3e",
   "metadata": {},
   "source": [
    "## Example code\n",
    "### Variable types and declaration"
   ]
  },
  {
   "cell_type": "code",
   "execution_count": null,
   "id": "e11bb363",
   "metadata": {},
   "outputs": [],
   "source": [
    "%%enzo\n",
    "$x: 10\n",
    "$x + 5"
   ]
  },
  {
   "cell_type": "code",
   "execution_count": null,
   "id": "892d1c0d",
   "metadata": {},
   "outputs": [
    {
     "data": {
      "text/plain": [
       "7"
      ]
     },
     "execution_count": 2,
     "metadata": {},
     "output_type": "execute_result"
    }
   ],
   "source": [
    "run_enzo('$x: 4')\n",
    "run_enzo('$x + 3')\n",
    "run_enzo('$colors: [\"red\", \"green\", \"blue\"]')\n",
    "run_enzo('$colors.3')\n",
    "\n",
    "run_enzo('$colors: [\"red\", \"green\", \"blue\"]')\n",
    "run_enzo('$colors.3')\n",
    "run_enzo('\"Hello, <$colors.2>!\"')\n"
   ]
  }
 ],
 "metadata": {
  "kernelspec": {
   "display_name": "Python (Enzo)",
   "language": "python",
   "name": "enzo"
  },
  "language_info": {
   "codemirror_mode": {
    "name": "ipython",
    "version": 3
   },
   "file_extension": ".py",
   "mimetype": "text/x-python",
   "name": "python",
   "nbconvert_exporter": "python",
   "pygments_lexer": "ipython3",
   "version": "3.13.2"
  }
 },
 "nbformat": 4,
 "nbformat_minor": 5
}
