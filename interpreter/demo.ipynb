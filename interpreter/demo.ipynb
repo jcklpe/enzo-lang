{
 "cells": [
  {
   "cell_type": "markdown",
   "id": "11218522",
   "metadata": {},
   "source": [
    "# 🧪 Enzo Playground\n",
    "This python notebook lets you run Enzo code directly in your browser."
   ]
  },
  {
   "cell_type": "markdown",
   "id": "cf257c23",
   "metadata": {},
   "source": [
    "## 🛠️ Setup: Install dependencies and load Enzo interpreter\n",
    "You have to run the below code first before anything will work. Just click the little play button in the top left of the code cell. "
   ]
  },
  {
   "cell_type": "code",
   "execution_count": null,
   "id": "31ab30b6",
   "metadata": {
    "collapsed": true
   },
   "outputs": [
    {
     "name": "stdout",
     "output_type": "stream",
     "text": [
      "✅ setup complete\n"
     ]
    }
   ],
   "source": [
    "import sys\n",
    "import os\n",
    "import shutil\n",
    "\n",
    "try:\n",
    "    import google.colab\n",
    "    IN_COLAB = True\n",
    "except ImportError:\n",
    "    IN_COLAB = False\n",
    "\n",
    "# Clone and set up ONLY if running on Colab\n",
    "if IN_COLAB:\n",
    "    !pip install lark --quiet\n",
    "\n",
    "    # Remove existing clone if it exists\n",
    "    if os.path.exists(\"enzo-code\"):\n",
    "        shutil.rmtree(\"enzo-code\")\n",
    "\n",
    "    !git clone --depth 1 https://github.com/jcklpe/enzo-lang.git enzo-code\n",
    "    sys.path.insert(0, \"./enzo-code/src\")\n",
    "else:\n",
    "    sys.path.insert(0, \"./src\")\n",
    "\n",
    "from enzo.parser import parse\n",
    "from enzo.evaluator import eval_ast\n",
    "\n",
    "def run_enzo(code: str):\n",
    "    try:\n",
    "        ast = parse(code)\n",
    "        result = eval_ast(ast)\n",
    "        return result\n",
    "    except Exception as e:\n",
    "        return f\"Error: {e}\"\n",
    "\n",
    "# Register %%enzo magic command\n",
    "from IPython.core.magic import register_line_cell_magic\n",
    "\n",
    "@register_line_cell_magic\n",
    "def enzo(line, cell=None):\n",
    "    src = line if cell is None else cell\n",
    "    try:\n",
    "        result = eval_ast(parse(src))\n",
    "        print(result)\n",
    "    except Exception as e:\n",
    "        print(f\"❌ Error: {e}\")\n",
    "\n",
    "print(\"✅ setup complete\")\n"
   ]
  },
  {
   "cell_type": "markdown",
   "id": "970cef3e",
   "metadata": {},
   "source": [
    "## 🧞‍♂️ Example code\n",
    "### Variable types and declaration\n",
    "#### Text (strings)"
   ]
  },
  {
   "cell_type": "code",
   "execution_count": null,
   "id": "e11bb363",
   "metadata": {},
   "outputs": [
    {
     "name": "stdout",
     "output_type": "stream",
     "text": [
      "Text interpolation is defined using angle brackets: here is some text\n"
     ]
    }
   ],
   "source": [
    "%%enzo\n",
    "$text-variable: \"here is some text\";"
   ]
  },
  {
   "cell_type": "markdown",
   "id": "dec61aad",
   "metadata": {},
   "source": [
    "##### Text interpolation"
   ]
  },
  {
   "cell_type": "code",
   "execution_count": 12,
   "id": "b76690ec",
   "metadata": {},
   "outputs": [
    {
     "name": "stdout",
     "output_type": "stream",
     "text": [
      "Text interpolation is defined using angle brackets: here is some text\n"
     ]
    }
   ],
   "source": [
    "%%enzo\n",
    "\"Text interpolation is defined using angle brackets: <$text-variable;>\""
   ]
  },
  {
   "cell_type": "markdown",
   "id": "6bfeb834",
   "metadata": {},
   "source": [
    "#### Number"
   ]
  },
  {
   "cell_type": "code",
   "execution_count": 9,
   "id": "1ab5c7f6",
   "metadata": {},
   "outputs": [
    {
     "name": "stdout",
     "output_type": "stream",
     "text": [
      "❌ Error: $number-example1 already defined\n"
     ]
    }
   ],
   "source": [
    "%%enzo\n",
    "$number-example1: 5;\n",
    "$number-example2: 3;\n",
    "$text-example: \"The result of these two numbers added together is: <$number-example1 + $number-example2;>\";\n",
    "\n",
    "// Number operations\n",
    "1 + 2;\n",
    "3 - 1;\n",
    "2 * 3;\n",
    "4/4;"
   ]
  },
  {
   "cell_type": "markdown",
   "id": "6eaec8dc",
   "metadata": {},
   "source": [
    "#### List (arrays)"
   ]
  },
  {
   "cell_type": "code",
   "execution_count": 11,
   "id": "8be939ac",
   "metadata": {},
   "outputs": [
    {
     "name": "stdout",
     "output_type": "stream",
     "text": [
      "['here is some text', 666, 'The result of these two numbers added together is: 8']\n"
     ]
    }
   ],
   "source": [
    "%%enzo\n",
    "$list-example: [\"here is some text\", 666, $text-example];"
   ]
  },
  {
   "cell_type": "markdown",
   "id": "f184a429",
   "metadata": {},
   "source": [
    "You can access a specific item in the list as follows:"
   ]
  },
  {
   "cell_type": "code",
   "execution_count": null,
   "id": "123472dd",
   "metadata": {},
   "outputs": [
    {
     "name": "stdout",
     "output_type": "stream",
     "text": [
      "This is the middle color: green\n"
     ]
    }
   ],
   "source": [
    "%%enzo\n",
    "$colors: [\"red\", \"green\", \"blue\", \"yellow\"];\n",
    "\n",
    "$firstColor:  $colors.1;   // \"red\"\n",
    "$thirdColor:  $colors.3;   // \"blue\"\n",
    "\n",
    "// Using a computed index\n",
    "$indexToFind: 2;\n",
    "$middleColor: $colors.$indexToFind;\n",
    "\"This is the middle color: <$middleColor>\";"
   ]
  }
 ],
 "metadata": {
  "kernelspec": {
   "display_name": "Python (Enzo)",
   "language": "python",
   "name": "enzo"
  },
  "language_info": {
   "codemirror_mode": {
    "name": "ipython",
    "version": 3
   },
   "file_extension": ".py",
   "mimetype": "text/x-python",
   "name": "python",
   "nbconvert_exporter": "python",
   "pygments_lexer": "ipython3",
   "version": "3.13.2"
  }
 },
 "nbformat": 4,
 "nbformat_minor": 5
}
